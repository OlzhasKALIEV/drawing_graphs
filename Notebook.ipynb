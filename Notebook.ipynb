import requests
from IPython.display import Image, display
# Получить список картинок из сервера
response = requests.get('http://localhost:5000/api/v1/drawing_graphs/all/')
data = response.json()
images = data['images']
# Отобразить картинку
for image in images:
    image_url = image['url']
    display(Image(url=image_url))
