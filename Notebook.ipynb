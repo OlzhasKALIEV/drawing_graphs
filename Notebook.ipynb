{
 "cells": [
  {
   "cell_type": "code",
   "execution_count": 24,
   "id": "738f7c8c-0a27-4802-b946-ea8613ff483a",
   "metadata": {
    "tags": []
   },
   "outputs": [
    {
     "name": "stdout",
     "output_type": "stream",
     "text": [
      "Среднее отклонение:, 12.89532038162962\n",
      "Максимальное отклонение:, 121.3010550187\n",
      "Минимальное отклонение:, 0.1929730646\n",
      "Стандартное отклонение:, 21.839947984913028\n"
     ]
    }
   ],
   "source": [
    "import pandas as pd\n",
    "url = \"https://ai-process-sandy.s3.eu-west-1.amazonaws.com/purge/deviation.json\"\n",
    "df = pd.read_json(url)\n",
    "mean_deviation = df['mean'].mean()\n",
    "max_deviation = df['mean'].max()\n",
    "min_deviation = df['mean'].min()\n",
    "std_deviation = df['mean'].std()\n",
    "print(f\"Среднее отклонение:, {mean_deviation}\")\n",
    "print(f\"Максимальное отклонение:, {max_deviation}\")\n",
    "print(f\"Минимальное отклонение:, {min_deviation}\")\n",
    "print(f\"Стандартное отклонение:, {std_deviation}\")"
   ]
  }
 ],
 "metadata": {
  "kernelspec": {
   "display_name": "Python 3 (ipykernel)",
   "language": "python",
   "name": "python3"
  },
  "language_info": {
   "codemirror_mode": {
    "name": "ipython",
    "version": 3
   },
   "file_extension": ".py",
   "mimetype": "text/x-python",
   "name": "python",
   "nbconvert_exporter": "python",
   "pygments_lexer": "ipython3",
   "version": "3.11.1"
  }
 },
 "nbformat": 4,
 "nbformat_minor": 5
}
